{
  "nbformat": 4,
  "nbformat_minor": 0,
  "metadata": {
    "colab": {
      "provenance": [],
      "authorship_tag": "ABX9TyObpnjkPwp++JVWMXRL97yK",
      "include_colab_link": true
    },
    "kernelspec": {
      "name": "python3",
      "display_name": "Python 3"
    },
    "language_info": {
      "name": "python"
    }
  },
  "cells": [
    {
      "cell_type": "markdown",
      "metadata": {
        "id": "view-in-github",
        "colab_type": "text"
      },
      "source": [
        "<a href=\"https://colab.research.google.com/github/Rajathshivraj/text_based_adventure_game_python/blob/main/vulnerable.ipynb\" target=\"_parent\"><img src=\"https://colab.research.google.com/assets/colab-badge.svg\" alt=\"Open In Colab\"/></a>"
      ]
    },
    {
      "cell_type": "code",
      "execution_count": 2,
      "metadata": {
        "colab": {
          "base_uri": "https://localhost:8080/"
        },
        "id": "WMzg6uuuycoZ",
        "outputId": "02355d76-6fe5-4f68-8202-0f0e6725ebbd"
      },
      "outputs": [
        {
          "output_type": "execute_result",
          "data": {
            "text/plain": [
              "{'cells': [{'cell_type': 'markdown',\n",
              "   'metadata': {},\n",
              "   'source': ['# 🚨 Vulnerable Demo Notebook for ThreatPeek\\n',\n",
              "    '\\n',\n",
              "    'This notebook intentionally contains **fake credentials** and **bad practices** for testing.']},\n",
              "  {'cell_type': 'code',\n",
              "   'execution_count': None,\n",
              "   'metadata': {},\n",
              "   'outputs': [],\n",
              "   'source': ['# ⚠️ Hardcoded API Keys (FAKE)\\n',\n",
              "    'STRIPE_API_KEY = \"sk_test_FAKECOLAB1234567890\"\\n',\n",
              "    'OPENAI_API_KEY = \"sk-colab-fake-key-0987654321\"\\n',\n",
              "    'print(\"Fake keys loaded!\")']},\n",
              "  {'cell_type': 'code',\n",
              "   'execution_count': None,\n",
              "   'metadata': {},\n",
              "   'outputs': [],\n",
              "   'source': ['# ⚠️ Insecure password storage\\n',\n",
              "    'user_password = \"password123\"  # hardcoded password\\n',\n",
              "    'print(\"Password stored insecurely:\", user_password)']},\n",
              "  {'cell_type': 'code',\n",
              "   'execution_count': None,\n",
              "   'metadata': {},\n",
              "   'outputs': [],\n",
              "   'source': ['# ⚠️ SQL Injection Example\\n',\n",
              "    'import sqlite3\\n',\n",
              "    '\\n',\n",
              "    \"connection = sqlite3.connect(':memory:')\\n\",\n",
              "    'cursor = connection.cursor()\\n',\n",
              "    'cursor.execute(\"CREATE TABLE users (id INTEGER, username TEXT, password TEXT)\")\\n',\n",
              "    'cursor.execute(\"INSERT INTO users VALUES (1, \\'admin\\', \\'admin123\\')\")\\n',\n",
              "    'connection.commit()\\n',\n",
              "    '\\n',\n",
              "    'user_input = \"\\' OR \\'1\\'=\\'1\"  # classic SQL injection\\n',\n",
              "    'query = f\"SELECT * FROM users WHERE username = \\'{user_input}\\'\"\\n',\n",
              "    'print(\"Executing query:\", query)\\n',\n",
              "    'for row in cursor.execute(query):\\n',\n",
              "    '    print(row)']},\n",
              "  {'cell_type': 'markdown',\n",
              "   'metadata': {},\n",
              "   'source': ['✅ **Note:** All keys and data here are **dummy values** — safe for testing ThreatPeek.']}],\n",
              " 'metadata': {'kernelspec': {'display_name': 'Python 3',\n",
              "   'language': 'python',\n",
              "   'name': 'python3'},\n",
              "  'language_info': {'name': 'python', 'version': '3.x'}},\n",
              " 'nbformat': 4,\n",
              " 'nbformat_minor': 2}"
            ]
          },
          "metadata": {},
          "execution_count": 2
        }
      ],
      "source": [
        "{\n",
        " \"cells\": [\n",
        "  {\n",
        "   \"cell_type\": \"markdown\",\n",
        "   \"metadata\": {},\n",
        "   \"source\": [\n",
        "    \"# 🚨 Vulnerable Demo Notebook for ThreatPeek\\n\",\n",
        "    \"\\n\",\n",
        "    \"This notebook intentionally contains **fake credentials** and **bad practices** for testing.\"\n",
        "   ]\n",
        "  },\n",
        "  {\n",
        "   \"cell_type\": \"code\",\n",
        "   \"execution_count\": None,\n",
        "   \"metadata\": {},\n",
        "   \"outputs\": [],\n",
        "   \"source\": [\n",
        "    \"# ⚠️ Hardcoded API Keys (FAKE)\\n\",\n",
        "    \"STRIPE_API_KEY = \\\"sk_test_FAKECOLAB1234567890\\\"\\n\",\n",
        "    \"OPENAI_API_KEY = \\\"sk-colab-fake-key-0987654321\\\"\\n\",\n",
        "    \"print(\\\"Fake keys loaded!\\\")\"\n",
        "   ]\n",
        "  },\n",
        "  {\n",
        "   \"cell_type\": \"code\",\n",
        "   \"execution_count\": None,\n",
        "   \"metadata\": {},\n",
        "   \"outputs\": [],\n",
        "   \"source\": [\n",
        "    \"# ⚠️ Insecure password storage\\n\",\n",
        "    \"user_password = \\\"password123\\\"  # hardcoded password\\n\",\n",
        "    \"print(\\\"Password stored insecurely:\\\", user_password)\"\n",
        "   ]\n",
        "  },\n",
        "  {\n",
        "   \"cell_type\": \"code\",\n",
        "   \"execution_count\": None,\n",
        "   \"metadata\": {},\n",
        "   \"outputs\": [],\n",
        "   \"source\": [\n",
        "    \"# ⚠️ SQL Injection Example\\n\",\n",
        "    \"import sqlite3\\n\",\n",
        "    \"\\n\",\n",
        "    \"connection = sqlite3.connect(':memory:')\\n\",\n",
        "    \"cursor = connection.cursor()\\n\",\n",
        "    \"cursor.execute(\\\"CREATE TABLE users (id INTEGER, username TEXT, password TEXT)\\\")\\n\",\n",
        "    \"cursor.execute(\\\"INSERT INTO users VALUES (1, 'admin', 'admin123')\\\")\\n\",\n",
        "    \"connection.commit()\\n\",\n",
        "    \"\\n\",\n",
        "    \"user_input = \\\"' OR '1'='1\\\"  # classic SQL injection\\n\",\n",
        "    \"query = f\\\"SELECT * FROM users WHERE username = '{user_input}'\\\"\\n\",\n",
        "    \"print(\\\"Executing query:\\\", query)\\n\",\n",
        "    \"for row in cursor.execute(query):\\n\",\n",
        "    \"    print(row)\"\n",
        "   ]\n",
        "  },\n",
        "  {\n",
        "   \"cell_type\": \"markdown\",\n",
        "   \"metadata\": {},\n",
        "   \"source\": [\n",
        "    \"✅ **Note:** All keys and data here are **dummy values** — safe for testing ThreatPeek.\"\n",
        "   ]\n",
        "  }\n",
        " ],\n",
        " \"metadata\": {\n",
        "  \"kernelspec\": {\n",
        "   \"display_name\": \"Python 3\",\n",
        "   \"language\": \"python\",\n",
        "   \"name\": \"python3\"\n",
        "  },\n",
        "  \"language_info\": {\n",
        "   \"name\": \"python\",\n",
        "   \"version\": \"3.x\"\n",
        "  }\n",
        " },\n",
        " \"nbformat\": 4,\n",
        " \"nbformat_minor\": 2\n",
        "}"
      ]
    }
  ]
}